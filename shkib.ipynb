{
 "cells": [
  {
   "cell_type": "code",
   "execution_count": 1,
   "metadata": {
    "collapsed": true
   },
   "outputs": [],
   "source": [
    "# pip install pandas\n",
    "import pandas as pd\n",
    "\n",
    "from collections import Counter\n",
    "from operator import itemgetter\n",
    "from datetime import datetime"
   ]
  },
  {
   "cell_type": "code",
   "execution_count": 2,
   "metadata": {
    "collapsed": false
   },
   "outputs": [
    {
     "data": {
      "text/html": [
       "<div>\n",
       "<table border=\"1\" class=\"dataframe\">\n",
       "  <thead>\n",
       "    <tr style=\"text-align: right;\">\n",
       "      <th></th>\n",
       "      <th>_time</th>\n",
       "      <th>src_user</th>\n",
       "      <th>src_ip</th>\n",
       "      <th>src_port</th>\n",
       "      <th>dest_user</th>\n",
       "      <th>dest_ip</th>\n",
       "      <th>dest_port</th>\n",
       "      <th>input_byte</th>\n",
       "      <th>output_byte</th>\n",
       "    </tr>\n",
       "  </thead>\n",
       "  <tbody>\n",
       "    <tr>\n",
       "      <th>0</th>\n",
       "      <td>2018-01-19T19:46:00.000+0300</td>\n",
       "      <td>c15cf96d9b56740c974661d209ef44f7</td>\n",
       "      <td>9ec3b27794d1d302fa04a94836249f4a</td>\n",
       "      <td>55991</td>\n",
       "      <td>NaN</td>\n",
       "      <td>1f1b55833917801cbd2ed9a313095d9e</td>\n",
       "      <td>443</td>\n",
       "      <td>1019</td>\n",
       "      <td>3562</td>\n",
       "    </tr>\n",
       "    <tr>\n",
       "      <th>1</th>\n",
       "      <td>2018-01-19T19:46:00.000+0300</td>\n",
       "      <td>c15cf96d9b56740c974661d209ef44f7</td>\n",
       "      <td>9ec3b27794d1d302fa04a94836249f4a</td>\n",
       "      <td>55979</td>\n",
       "      <td>NaN</td>\n",
       "      <td>353a9f7687529bc37e3c8bcae6dcfdfa</td>\n",
       "      <td>443</td>\n",
       "      <td>840</td>\n",
       "      <td>357</td>\n",
       "    </tr>\n",
       "    <tr>\n",
       "      <th>2</th>\n",
       "      <td>2018-01-19T19:46:00.000+0300</td>\n",
       "      <td>c15cf96d9b56740c974661d209ef44f7</td>\n",
       "      <td>9ec3b27794d1d302fa04a94836249f4a</td>\n",
       "      <td>34432</td>\n",
       "      <td>NaN</td>\n",
       "      <td>072f83db38ddd013e59a3616bd3b05a6</td>\n",
       "      <td>53</td>\n",
       "      <td>61</td>\n",
       "      <td>135</td>\n",
       "    </tr>\n",
       "    <tr>\n",
       "      <th>3</th>\n",
       "      <td>2018-01-19T19:46:00.000+0300</td>\n",
       "      <td>c15cf96d9b56740c974661d209ef44f7</td>\n",
       "      <td>9ec3b27794d1d302fa04a94836249f4a</td>\n",
       "      <td>49932</td>\n",
       "      <td>NaN</td>\n",
       "      <td>072f83db38ddd013e59a3616bd3b05a6</td>\n",
       "      <td>53</td>\n",
       "      <td>61</td>\n",
       "      <td>77</td>\n",
       "    </tr>\n",
       "    <tr>\n",
       "      <th>4</th>\n",
       "      <td>2018-01-19T19:46:00.000+0300</td>\n",
       "      <td>c15cf96d9b56740c974661d209ef44f7</td>\n",
       "      <td>9ec3b27794d1d302fa04a94836249f4a</td>\n",
       "      <td>55994</td>\n",
       "      <td>NaN</td>\n",
       "      <td>ee76d4dce963e690712339f7bf064705</td>\n",
       "      <td>443</td>\n",
       "      <td>757</td>\n",
       "      <td>3511</td>\n",
       "    </tr>\n",
       "  </tbody>\n",
       "</table>\n",
       "</div>"
      ],
      "text/plain": [
       "                          _time                          src_user  \\\n",
       "0  2018-01-19T19:46:00.000+0300  c15cf96d9b56740c974661d209ef44f7   \n",
       "1  2018-01-19T19:46:00.000+0300  c15cf96d9b56740c974661d209ef44f7   \n",
       "2  2018-01-19T19:46:00.000+0300  c15cf96d9b56740c974661d209ef44f7   \n",
       "3  2018-01-19T19:46:00.000+0300  c15cf96d9b56740c974661d209ef44f7   \n",
       "4  2018-01-19T19:46:00.000+0300  c15cf96d9b56740c974661d209ef44f7   \n",
       "\n",
       "                             src_ip  src_port dest_user  \\\n",
       "0  9ec3b27794d1d302fa04a94836249f4a     55991       NaN   \n",
       "1  9ec3b27794d1d302fa04a94836249f4a     55979       NaN   \n",
       "2  9ec3b27794d1d302fa04a94836249f4a     34432       NaN   \n",
       "3  9ec3b27794d1d302fa04a94836249f4a     49932       NaN   \n",
       "4  9ec3b27794d1d302fa04a94836249f4a     55994       NaN   \n",
       "\n",
       "                            dest_ip  dest_port  input_byte  output_byte  \n",
       "0  1f1b55833917801cbd2ed9a313095d9e        443        1019         3562  \n",
       "1  353a9f7687529bc37e3c8bcae6dcfdfa        443         840          357  \n",
       "2  072f83db38ddd013e59a3616bd3b05a6         53          61          135  \n",
       "3  072f83db38ddd013e59a3616bd3b05a6         53          61           77  \n",
       "4  ee76d4dce963e690712339f7bf064705        443         757         3511  "
      ]
     },
     "execution_count": 2,
     "metadata": {},
     "output_type": "execute_result"
    }
   ],
   "source": [
    "df = pd.read_csv(\"shkib.csv\")\n",
    "df.head()"
   ]
  },
  {
   "cell_type": "markdown",
   "metadata": {},
   "source": [
    "### Поиск 5ти пользователей, сгенерировавших наибольшее количество запросов"
   ]
  },
  {
   "cell_type": "code",
   "execution_count": 3,
   "metadata": {
    "collapsed": true
   },
   "outputs": [],
   "source": [
    "def topRequestUser(df):\n",
    "    groups = df[df[\"src_user\"].notnull()].groupby(by=[\"src_user\"]).groups\n",
    "    user_cnt_queries = map(lambda (user, queries): (user, len(queries)), groups.items())\n",
    "    topRequest = sorted(user_cnt_queries, key=itemgetter(1),reverse=True)[:5]\n",
    "    return topRequest"
   ]
  },
  {
   "cell_type": "code",
   "execution_count": 4,
   "metadata": {
    "collapsed": false
   },
   "outputs": [
    {
     "data": {
      "text/plain": [
       "[('a6c732a9cd426b7620cd93e7aa37aef6', 54522),\n",
       " ('7834ea899abe21b5fd047e125cdffc56', 50149),\n",
       " ('64c5eae485561a1d7064477e792a6358', 46463),\n",
       " ('aedf2485753a52ca1149bde2343e8d7a', 40371),\n",
       " ('e948e29d93d507d2bfd6dc2dee45bf2b', 37718)]"
      ]
     },
     "execution_count": 4,
     "metadata": {},
     "output_type": "execute_result"
    }
   ],
   "source": [
    "topRequestUser(df)"
   ]
  },
  {
   "cell_type": "markdown",
   "metadata": {},
   "source": [
    "### Поиск 5ти пользователей, отправивших наибольшее количество данных"
   ]
  },
  {
   "cell_type": "code",
   "execution_count": 5,
   "metadata": {
    "collapsed": true
   },
   "outputs": [],
   "source": [
    "def topDataSendUser(df):\n",
    "    groups = df[df[\"src_user\"].notnull()].groupby(by=[\"src_user\"])['output_byte']\n",
    "    topDataSend = sorted(dict(groups.sum()).items(), key=itemgetter(1),reverse=True)[:5]\n",
    "    return topDataSend"
   ]
  },
  {
   "cell_type": "code",
   "execution_count": 6,
   "metadata": {
    "collapsed": false
   },
   "outputs": [
    {
     "data": {
      "text/plain": [
       "[('ef407a4a8c7262284b558651b8e7eff3', 5788762342),\n",
       " ('22e94d0520b9f9b2f02eaa97b165f720', 2695498079),\n",
       " ('453370ebc5e3c98cc53664362da6cc1a', 1560165694),\n",
       " ('34902a8b61bc416b1ff8832d7c3bbddb', 1560156359),\n",
       " ('c15cf96d9b56740c974661d209ef44f7', 1272035251)]"
      ]
     },
     "execution_count": 6,
     "metadata": {},
     "output_type": "execute_result"
    }
   ],
   "source": [
    "topDataSendUser(df)"
   ]
  },
  {
   "cell_type": "markdown",
   "metadata": {},
   "source": [
    "### Поиск регулярных запросов (запросов выполняющихся периодически) по полю src_user"
   ]
  },
  {
   "cell_type": "code",
   "execution_count": 7,
   "metadata": {
    "collapsed": false
   },
   "outputs": [],
   "source": [
    "def getTop10RegularUsr(df):\n",
    "    df_without_nan_user = df[df[\"src_user\"].notnull()]\n",
    "    \n",
    "    columns = ['src_user', 'dest_ip', 'output_byte', 'dest_port']\n",
    "    df_string = df_without_nan_user[columns].astype(str)\n",
    "    cnt = Counter(map(lambda x: ' '.join(x), df_string.values))\n",
    "    cnt = sorted(cnt.items(), key=itemgetter(1), reverse=True)\n",
    "     \n",
    "    top = cnt[:10]\n",
    "    data = map(lambda (data, cnt): data.split() + [cnt], top)\n",
    "    return pd.DataFrame(data=data, columns=columns + ['count_queries'], index=None)"
   ]
  },
  {
   "cell_type": "code",
   "execution_count": 8,
   "metadata": {
    "collapsed": false
   },
   "outputs": [
    {
     "data": {
      "text/html": [
       "<div>\n",
       "<table border=\"1\" class=\"dataframe\">\n",
       "  <thead>\n",
       "    <tr style=\"text-align: right;\">\n",
       "      <th></th>\n",
       "      <th>src_user</th>\n",
       "      <th>dest_ip</th>\n",
       "      <th>output_byte</th>\n",
       "      <th>dest_port</th>\n",
       "      <th>count_queries</th>\n",
       "    </tr>\n",
       "  </thead>\n",
       "  <tbody>\n",
       "    <tr>\n",
       "      <th>0</th>\n",
       "      <td>7834ea899abe21b5fd047e125cdffc56</td>\n",
       "      <td>072f83db38ddd013e59a3616bd3b05a6</td>\n",
       "      <td>94</td>\n",
       "      <td>53</td>\n",
       "      <td>9419</td>\n",
       "    </tr>\n",
       "    <tr>\n",
       "      <th>1</th>\n",
       "      <td>7834ea899abe21b5fd047e125cdffc56</td>\n",
       "      <td>072f83db38ddd013e59a3616bd3b05a6</td>\n",
       "      <td>123</td>\n",
       "      <td>53</td>\n",
       "      <td>8019</td>\n",
       "    </tr>\n",
       "    <tr>\n",
       "      <th>2</th>\n",
       "      <td>f2825c1deb48cc723dc27b598c662610</td>\n",
       "      <td>0956783fe5a6d8e0f864b5eaf4084063</td>\n",
       "      <td>123</td>\n",
       "      <td>53</td>\n",
       "      <td>5863</td>\n",
       "    </tr>\n",
       "    <tr>\n",
       "      <th>3</th>\n",
       "      <td>7834ea899abe21b5fd047e125cdffc56</td>\n",
       "      <td>072f83db38ddd013e59a3616bd3b05a6</td>\n",
       "      <td>136</td>\n",
       "      <td>53</td>\n",
       "      <td>5725</td>\n",
       "    </tr>\n",
       "    <tr>\n",
       "      <th>4</th>\n",
       "      <td>7834ea899abe21b5fd047e125cdffc56</td>\n",
       "      <td>072f83db38ddd013e59a3616bd3b05a6</td>\n",
       "      <td>106</td>\n",
       "      <td>53</td>\n",
       "      <td>4300</td>\n",
       "    </tr>\n",
       "    <tr>\n",
       "      <th>5</th>\n",
       "      <td>0621b1f7a35e6e0617dc82d86edb1759</td>\n",
       "      <td>0956783fe5a6d8e0f864b5eaf4084063</td>\n",
       "      <td>0</td>\n",
       "      <td>53</td>\n",
       "      <td>3639</td>\n",
       "    </tr>\n",
       "    <tr>\n",
       "      <th>6</th>\n",
       "      <td>f2825c1deb48cc723dc27b598c662610</td>\n",
       "      <td>072f83db38ddd013e59a3616bd3b05a6</td>\n",
       "      <td>52</td>\n",
       "      <td>53</td>\n",
       "      <td>2944</td>\n",
       "    </tr>\n",
       "    <tr>\n",
       "      <th>7</th>\n",
       "      <td>f2825c1deb48cc723dc27b598c662610</td>\n",
       "      <td>0956783fe5a6d8e0f864b5eaf4084063</td>\n",
       "      <td>52</td>\n",
       "      <td>53</td>\n",
       "      <td>2934</td>\n",
       "    </tr>\n",
       "    <tr>\n",
       "      <th>8</th>\n",
       "      <td>f2825c1deb48cc723dc27b598c662610</td>\n",
       "      <td>0956783fe5a6d8e0f864b5eaf4084063</td>\n",
       "      <td>114</td>\n",
       "      <td>53</td>\n",
       "      <td>2931</td>\n",
       "    </tr>\n",
       "    <tr>\n",
       "      <th>9</th>\n",
       "      <td>a6c732a9cd426b7620cd93e7aa37aef6</td>\n",
       "      <td>0956783fe5a6d8e0f864b5eaf4084063</td>\n",
       "      <td>0</td>\n",
       "      <td>53</td>\n",
       "      <td>2844</td>\n",
       "    </tr>\n",
       "  </tbody>\n",
       "</table>\n",
       "</div>"
      ],
      "text/plain": [
       "                           src_user                           dest_ip  \\\n",
       "0  7834ea899abe21b5fd047e125cdffc56  072f83db38ddd013e59a3616bd3b05a6   \n",
       "1  7834ea899abe21b5fd047e125cdffc56  072f83db38ddd013e59a3616bd3b05a6   \n",
       "2  f2825c1deb48cc723dc27b598c662610  0956783fe5a6d8e0f864b5eaf4084063   \n",
       "3  7834ea899abe21b5fd047e125cdffc56  072f83db38ddd013e59a3616bd3b05a6   \n",
       "4  7834ea899abe21b5fd047e125cdffc56  072f83db38ddd013e59a3616bd3b05a6   \n",
       "5  0621b1f7a35e6e0617dc82d86edb1759  0956783fe5a6d8e0f864b5eaf4084063   \n",
       "6  f2825c1deb48cc723dc27b598c662610  072f83db38ddd013e59a3616bd3b05a6   \n",
       "7  f2825c1deb48cc723dc27b598c662610  0956783fe5a6d8e0f864b5eaf4084063   \n",
       "8  f2825c1deb48cc723dc27b598c662610  0956783fe5a6d8e0f864b5eaf4084063   \n",
       "9  a6c732a9cd426b7620cd93e7aa37aef6  0956783fe5a6d8e0f864b5eaf4084063   \n",
       "\n",
       "  output_byte dest_port  count_queries  \n",
       "0          94        53           9419  \n",
       "1         123        53           8019  \n",
       "2         123        53           5863  \n",
       "3         136        53           5725  \n",
       "4         106        53           4300  \n",
       "5           0        53           3639  \n",
       "6          52        53           2944  \n",
       "7          52        53           2934  \n",
       "8         114        53           2931  \n",
       "9           0        53           2844  "
      ]
     },
     "execution_count": 8,
     "metadata": {},
     "output_type": "execute_result"
    }
   ],
   "source": [
    "topRegular = getTop10RegularUsr(df)\n",
    "topRegular"
   ]
  },
  {
   "cell_type": "markdown",
   "metadata": {},
   "source": [
    "### Поиск регулярных запросов (запросов выполняющихся периодически) по полю src_ip"
   ]
  },
  {
   "cell_type": "code",
   "execution_count": 9,
   "metadata": {
    "collapsed": true
   },
   "outputs": [],
   "source": [
    "def getTop10RegularIP(df):\n",
    "    \n",
    "    columns = ['src_ip', 'dest_ip', 'output_byte', 'dest_port']\n",
    "    df_string = df[columns].astype(str)\n",
    "    cnt = Counter(map(lambda x: ' '.join(x), df_string.values))\n",
    "    cnt = sorted(cnt.items(), key=itemgetter(1), reverse=True)\n",
    "     \n",
    "    top = cnt[:10]\n",
    "    data = map(lambda (data, cnt): data.split() + [cnt], top)\n",
    "    return pd.DataFrame(data=data, columns=columns + ['count_queries'], index=None)"
   ]
  },
  {
   "cell_type": "code",
   "execution_count": 10,
   "metadata": {
    "collapsed": false
   },
   "outputs": [
    {
     "data": {
      "text/html": [
       "<div>\n",
       "<table border=\"1\" class=\"dataframe\">\n",
       "  <thead>\n",
       "    <tr style=\"text-align: right;\">\n",
       "      <th></th>\n",
       "      <th>src_ip</th>\n",
       "      <th>dest_ip</th>\n",
       "      <th>output_byte</th>\n",
       "      <th>dest_port</th>\n",
       "      <th>count_queries</th>\n",
       "    </tr>\n",
       "  </thead>\n",
       "  <tbody>\n",
       "    <tr>\n",
       "      <th>0</th>\n",
       "      <td>d02c9bb2cade1c33ff985188acc96e68</td>\n",
       "      <td>072f83db38ddd013e59a3616bd3b05a6</td>\n",
       "      <td>94</td>\n",
       "      <td>53</td>\n",
       "      <td>9419</td>\n",
       "    </tr>\n",
       "    <tr>\n",
       "      <th>1</th>\n",
       "      <td>d02c9bb2cade1c33ff985188acc96e68</td>\n",
       "      <td>072f83db38ddd013e59a3616bd3b05a6</td>\n",
       "      <td>123</td>\n",
       "      <td>53</td>\n",
       "      <td>8019</td>\n",
       "    </tr>\n",
       "    <tr>\n",
       "      <th>2</th>\n",
       "      <td>43ed6a1c781031fa618c0350a801e52f</td>\n",
       "      <td>0956783fe5a6d8e0f864b5eaf4084063</td>\n",
       "      <td>123</td>\n",
       "      <td>53</td>\n",
       "      <td>5863</td>\n",
       "    </tr>\n",
       "    <tr>\n",
       "      <th>3</th>\n",
       "      <td>d02c9bb2cade1c33ff985188acc96e68</td>\n",
       "      <td>072f83db38ddd013e59a3616bd3b05a6</td>\n",
       "      <td>136</td>\n",
       "      <td>53</td>\n",
       "      <td>5725</td>\n",
       "    </tr>\n",
       "    <tr>\n",
       "      <th>4</th>\n",
       "      <td>d02c9bb2cade1c33ff985188acc96e68</td>\n",
       "      <td>072f83db38ddd013e59a3616bd3b05a6</td>\n",
       "      <td>106</td>\n",
       "      <td>53</td>\n",
       "      <td>4300</td>\n",
       "    </tr>\n",
       "    <tr>\n",
       "      <th>5</th>\n",
       "      <td>b69be4fe5400cb92f22f9921ef73b8dc</td>\n",
       "      <td>0956783fe5a6d8e0f864b5eaf4084063</td>\n",
       "      <td>0</td>\n",
       "      <td>53</td>\n",
       "      <td>3639</td>\n",
       "    </tr>\n",
       "    <tr>\n",
       "      <th>6</th>\n",
       "      <td>43ed6a1c781031fa618c0350a801e52f</td>\n",
       "      <td>072f83db38ddd013e59a3616bd3b05a6</td>\n",
       "      <td>52</td>\n",
       "      <td>53</td>\n",
       "      <td>2944</td>\n",
       "    </tr>\n",
       "    <tr>\n",
       "      <th>7</th>\n",
       "      <td>43ed6a1c781031fa618c0350a801e52f</td>\n",
       "      <td>0956783fe5a6d8e0f864b5eaf4084063</td>\n",
       "      <td>52</td>\n",
       "      <td>53</td>\n",
       "      <td>2934</td>\n",
       "    </tr>\n",
       "    <tr>\n",
       "      <th>8</th>\n",
       "      <td>43ed6a1c781031fa618c0350a801e52f</td>\n",
       "      <td>0956783fe5a6d8e0f864b5eaf4084063</td>\n",
       "      <td>114</td>\n",
       "      <td>53</td>\n",
       "      <td>2931</td>\n",
       "    </tr>\n",
       "    <tr>\n",
       "      <th>9</th>\n",
       "      <td>3f491769846e92a9e9e1afec2321b5ae</td>\n",
       "      <td>0956783fe5a6d8e0f864b5eaf4084063</td>\n",
       "      <td>0</td>\n",
       "      <td>53</td>\n",
       "      <td>2844</td>\n",
       "    </tr>\n",
       "  </tbody>\n",
       "</table>\n",
       "</div>"
      ],
      "text/plain": [
       "                             src_ip                           dest_ip  \\\n",
       "0  d02c9bb2cade1c33ff985188acc96e68  072f83db38ddd013e59a3616bd3b05a6   \n",
       "1  d02c9bb2cade1c33ff985188acc96e68  072f83db38ddd013e59a3616bd3b05a6   \n",
       "2  43ed6a1c781031fa618c0350a801e52f  0956783fe5a6d8e0f864b5eaf4084063   \n",
       "3  d02c9bb2cade1c33ff985188acc96e68  072f83db38ddd013e59a3616bd3b05a6   \n",
       "4  d02c9bb2cade1c33ff985188acc96e68  072f83db38ddd013e59a3616bd3b05a6   \n",
       "5  b69be4fe5400cb92f22f9921ef73b8dc  0956783fe5a6d8e0f864b5eaf4084063   \n",
       "6  43ed6a1c781031fa618c0350a801e52f  072f83db38ddd013e59a3616bd3b05a6   \n",
       "7  43ed6a1c781031fa618c0350a801e52f  0956783fe5a6d8e0f864b5eaf4084063   \n",
       "8  43ed6a1c781031fa618c0350a801e52f  0956783fe5a6d8e0f864b5eaf4084063   \n",
       "9  3f491769846e92a9e9e1afec2321b5ae  0956783fe5a6d8e0f864b5eaf4084063   \n",
       "\n",
       "  output_byte dest_port  count_queries  \n",
       "0          94        53           9419  \n",
       "1         123        53           8019  \n",
       "2         123        53           5863  \n",
       "3         136        53           5725  \n",
       "4         106        53           4300  \n",
       "5           0        53           3639  \n",
       "6          52        53           2944  \n",
       "7          52        53           2934  \n",
       "8         114        53           2931  \n",
       "9           0        53           2844  "
      ]
     },
     "execution_count": 10,
     "metadata": {},
     "output_type": "execute_result"
    }
   ],
   "source": [
    "toRegularIP = getTop10RegularIP(df)\n",
    "toRegularIP"
   ]
  },
  {
   "cell_type": "code",
   "execution_count": null,
   "metadata": {
    "collapsed": true
   },
   "outputs": [],
   "source": []
  }
 ],
 "metadata": {
  "kernelspec": {
   "display_name": "Python 2",
   "language": "python",
   "name": "python2"
  },
  "language_info": {
   "codemirror_mode": {
    "name": "ipython",
    "version": 2
   },
   "file_extension": ".py",
   "mimetype": "text/x-python",
   "name": "python",
   "nbconvert_exporter": "python",
   "pygments_lexer": "ipython2",
   "version": "2.7.13"
  }
 },
 "nbformat": 4,
 "nbformat_minor": 2
}
